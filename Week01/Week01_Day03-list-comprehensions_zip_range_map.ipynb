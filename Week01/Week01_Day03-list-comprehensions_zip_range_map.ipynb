{
 "cells": [
  {
   "cell_type": "markdown",
   "id": "0d94e8b6",
   "metadata": {},
   "source": [
    "Here are some notes on **list comprehensions**, **zip**, **map**, and etc."
   ]
  },
  {
   "cell_type": "code",
   "execution_count": 1,
   "id": "85adde7c",
   "metadata": {},
   "outputs": [],
   "source": [
    "import numpy as np\n",
    "import matplotlib.pyplot as plt\n",
    "import pandas as pd"
   ]
  },
  {
   "cell_type": "markdown",
   "id": "35239db0",
   "metadata": {},
   "source": [
    "**List Comprehensions**\n",
    "\n",
    "List comprehensions provide a concise way to create lists. \n",
    "\n",
    "They are written within square brackets and consist of an expression followed by a `for` clause, then followed by zero or more `for` or `if` clauses. \n",
    "\n",
    "The result will be a new list resulting from evaluating the expression in the context of the `for` and `if` clauses that follow it."
   ]
  },
  {
   "cell_type": "code",
   "execution_count": 2,
   "id": "4fddf0c1",
   "metadata": {},
   "outputs": [
    {
     "name": "stdout",
     "output_type": "stream",
     "text": [
      "[5, 4, 3, 2, 1]\n"
     ]
    }
   ],
   "source": [
    "# List comprehension must start with square brackets\n",
    "# The structure of a list comprehensions is\n",
    "# [expression for item in iterable]\n",
    "# Which returns a new list where each element of new list is the expression...\n",
    "# ... evaluated for each item in an iterable list or iterable element\n",
    "\n",
    "# An iterable is just a python object for which we can cycle through each element\n",
    "# A list is an iterable\n",
    "# As is a tuple, which is a series of values surounded by round brakcets, i.e. (1,2,3)\n",
    "# A string can also serve as an iterable too, and a dictionary as well.\n",
    "\n",
    "original_list = [5, 4, 3, 2, 1]\n",
    "copied_list = [x for x in original_list] # This is the list comprehension. It's simple, just makes a copy of the above list\n",
    "\n",
    "print(original_list) # Output: [5, 4, 3, 2, 1]"
   ]
  },
  {
   "cell_type": "code",
   "execution_count": 3,
   "id": "b588bf32",
   "metadata": {},
   "outputs": [
    {
     "name": "stdout",
     "output_type": "stream",
     "text": [
      "['H', 'i', '!']\n"
     ]
    }
   ],
   "source": [
    "string_list = [x for x in 'Hi!'] # Using a string as an iterable\n",
    "print(string_list) # Output: ['H', 'i', '!']"
   ]
  },
  {
   "cell_type": "code",
   "execution_count": 4,
   "id": "0958d6fa",
   "metadata": {},
   "outputs": [
    {
     "name": "stdout",
     "output_type": "stream",
     "text": [
      "[2, 4, 6, 8, 10]\n"
     ]
    }
   ],
   "source": [
    "# List comprehension to double each element of a list\n",
    "original_list = [1, 2, 3, 4, 5]\n",
    "doubled_list = [2*x for x in original_list]\n",
    "print(doubled_list)  # Output: [2, 4, 6, 8, 10]"
   ]
  },
  {
   "cell_type": "code",
   "execution_count": 5,
   "id": "cbf2d885",
   "metadata": {},
   "outputs": [
    {
     "name": "stdout",
     "output_type": "stream",
     "text": [
      "[12, 14, 16, 18, 20]\n"
     ]
    }
   ],
   "source": [
    "# The expression in the list comprehension can also be a function\n",
    "\n",
    "def func(x):\n",
    "    \n",
    "    y = 2*x + 10\n",
    "    \n",
    "    return y\n",
    "\n",
    "original_list = [1, 2, 3, 4, 5]\n",
    "function_output = [func(x) for x in original_list]\n",
    "print(function_output)"
   ]
  },
  {
   "cell_type": "markdown",
   "id": "5e1ec140",
   "metadata": {},
   "source": [
    "Compare list comprehensions to the \"old fashioned\" way of iterating over lists..."
   ]
  },
  {
   "cell_type": "code",
   "execution_count": 6,
   "id": "72f3dfc1",
   "metadata": {},
   "outputs": [
    {
     "name": "stdout",
     "output_type": "stream",
     "text": [
      "[2, 4, 6, 8, 10]\n"
     ]
    }
   ],
   "source": [
    "# We don't have to use list comphrehensions, but they are quicker ways to make lists\n",
    "# If we wanted to do the above without list comprehensions, we would do the following\n",
    "\n",
    "original_list = [1, 2, 3, 4, 5]\n",
    "doubled_list = [] # First, we must define the new list, and set it equal to an empty list\n",
    "\n",
    "for x in original_list:\n",
    "    y = 2*x\n",
    "    doubled_list.append(y) # Use the list.append(value) function to include the value to the list\n",
    "    \n",
    "print(doubled_list) # Output: [2, 4, 6, 8, 10]"
   ]
  },
  {
   "cell_type": "markdown",
   "id": "9138a19c",
   "metadata": {},
   "source": [
    "Let's look at using logical conditions (if statements) in our list comprehension"
   ]
  },
  {
   "cell_type": "code",
   "execution_count": 7,
   "id": "ebd4fed4",
   "metadata": {},
   "outputs": [
    {
     "name": "stdout",
     "output_type": "stream",
     "text": [
      "[3, 4, 5]\n",
      "[2]\n",
      "[2, 4]\n",
      "[4, 8]\n"
     ]
    }
   ],
   "source": [
    "# We can also add an if statement after the for statement\n",
    "# This includes a logical condition to the list comprehension\n",
    "# and only evaluates the comprehension for items in which the logical condition is true\n",
    "# Examples:\n",
    "\n",
    "# Only output expressions for with the iterable item is greater than 2\n",
    "print([x for x in original_list if x>2])\n",
    "\n",
    "# Only output expressions for which the iterable item is equal to 2\n",
    "# Remember, double equal signs are to used to check for equality in a logical condition\n",
    "print([x for x in original_list if x==2]) #Output: [2]\n",
    "\n",
    "# Only output expressions for which the iterable item is divisible by 2 (i.e. even)\n",
    "# This uses the modulo operator (x%y) which divides x by y and returns the REMAINDER\n",
    "# The condition x%2==0 returns True is the value x is divisible by 2 with no remainder\n",
    "# i.e. it is even.\n",
    "print([x for x in original_list if x%2==0]) #Output: [2, 4]\n",
    "\n",
    "# Only output expressions for with the iterable item is divisible by 2\n",
    "# The expression is to to double the iterable items which meet the logical condition\n",
    "print([2*x for x in original_list if x%2==0]) #Output: [4, 8]"
   ]
  },
  {
   "cell_type": "markdown",
   "id": "426f1583",
   "metadata": {},
   "source": [
    "**Range**\n",
    "\n",
    "It is also useful to know the `range()` function in Python. \n",
    "It returns an object of sequential numbers you can iterate over.\n",
    "\n",
    "\n",
    "You can use it in three ways. Here are some examples:\n",
    "- `range(3)` returns a sequence of three numbers starting at 0 and ending with 2 \n",
    "\n",
    "- `range(4,9)` returns a sequence of five numbers (9-4=5) starting at 4 and ending with 8\n",
    "\n",
    "- `range(4, 11, 2)` returns a sequence of every *second* number starting at 4, and then ending with with 11-1 = 10\n",
    "\n",
    "\n",
    "If you print any of the above it won't show the list. It will just return a `object`\n",
    "If you want turn the `range()` output into a `list` you can do `list(range())`\n",
    "\n",
    "You can also iterate over the `range()` output without turning it into a list\n",
    "\n",
    "See the below examples"
   ]
  },
  {
   "cell_type": "code",
   "execution_count": 8,
   "id": "8208a5ad",
   "metadata": {},
   "outputs": [
    {
     "name": "stdout",
     "output_type": "stream",
     "text": [
      "range(0, 3)\n"
     ]
    }
   ],
   "source": [
    "print( range(3) )"
   ]
  },
  {
   "cell_type": "code",
   "execution_count": 9,
   "id": "6a750a58",
   "metadata": {},
   "outputs": [
    {
     "name": "stdout",
     "output_type": "stream",
     "text": [
      "[0, 1, 2]\n"
     ]
    }
   ],
   "source": [
    "print( list(range(3)) )"
   ]
  },
  {
   "cell_type": "code",
   "execution_count": 10,
   "id": "2ae548db",
   "metadata": {},
   "outputs": [
    {
     "data": {
      "text/plain": [
       "[0, 1, 2]"
      ]
     },
     "execution_count": 10,
     "metadata": {},
     "output_type": "execute_result"
    }
   ],
   "source": [
    "[i for i in range(3)]"
   ]
  },
  {
   "cell_type": "code",
   "execution_count": 11,
   "id": "c1124a28",
   "metadata": {},
   "outputs": [
    {
     "data": {
      "text/plain": [
       "[4, 5, 6, 7, 8]"
      ]
     },
     "execution_count": 11,
     "metadata": {},
     "output_type": "execute_result"
    }
   ],
   "source": [
    "[i for i in range(4, 9)]"
   ]
  },
  {
   "cell_type": "code",
   "execution_count": 12,
   "id": "c7f8df7d",
   "metadata": {},
   "outputs": [
    {
     "data": {
      "text/plain": [
       "[4, 6, 8, 10]"
      ]
     },
     "execution_count": 12,
     "metadata": {},
     "output_type": "execute_result"
    }
   ],
   "source": [
    "[i for i in range(4, 11, 2)]"
   ]
  },
  {
   "cell_type": "markdown",
   "id": "89eee535",
   "metadata": {},
   "source": [
    "**Zip**\n",
    "\n",
    "The `zip()` function takes iterables (like lists) as arguments and returns an iterator of tuples. Each tuple contains the elements from the input iterables that have the same index.\n",
    "\n",
    "The `zip()` function returns a `zipped` object.\n",
    "If you print it, you won't see anything too useful\n",
    "\n",
    "You can turn the `zipped` object into a `list` using `list(zip(*add your arguments here*)`"
   ]
  },
  {
   "cell_type": "code",
   "execution_count": 13,
   "id": "5ba81226",
   "metadata": {},
   "outputs": [
    {
     "name": "stdout",
     "output_type": "stream",
     "text": [
      "<zip object at 0x000001C27245B0C0>\n"
     ]
    }
   ],
   "source": [
    "list1 = [1, 2, 3]\n",
    "list2 = ['a', 'b', 'c']\n",
    "zipped = zip(list1, list2)\n",
    "\n",
    "print(zipped)"
   ]
  },
  {
   "cell_type": "code",
   "execution_count": 14,
   "id": "9ce08660",
   "metadata": {},
   "outputs": [
    {
     "name": "stdout",
     "output_type": "stream",
     "text": [
      "[(1, 'a'), (2, 'b'), (3, 'c')]\n"
     ]
    }
   ],
   "source": [
    "list1 = [1, 2, 3]\n",
    "list2 = ['a', 'b', 'c']\n",
    "zipped = zip(list1, list2)\n",
    "\n",
    "print(list(zipped))  # Output: [(1, 'a'), (2, 'b'), (3, 'c')]"
   ]
  },
  {
   "cell_type": "code",
   "execution_count": 15,
   "id": "af3abdcb",
   "metadata": {},
   "outputs": [
    {
     "name": "stdout",
     "output_type": "stream",
     "text": [
      "[('a', 'x', 1), ('b', 'y', 2), ('c', 'z', 3)]\n"
     ]
    }
   ],
   "source": [
    "list1 = ['a', 'b', 'c']\n",
    "list2 = ['x', 'y', 'z']\n",
    "list3 = [1,    2,   3 ]\n",
    "zipped = zip(list1, list2, list3)\n",
    "\n",
    "print(list(zipped)) # Output: [(1, 'a'), (2, 'b'), (3, 'c')]"
   ]
  },
  {
   "cell_type": "code",
   "execution_count": 16,
   "id": "878bb487",
   "metadata": {},
   "outputs": [
    {
     "name": "stdout",
     "output_type": "stream",
     "text": [
      "('a', 'x', 1)\n"
     ]
    }
   ],
   "source": [
    "list1 = ['a', 'b', 'c']\n",
    "list2 = ['x', 'y', 'z']\n",
    "list3 = [1,    2,   3 ]\n",
    "zipped = zip(list1, list2, list3)\n",
    "\n",
    "zip_to_list = list(zipped)\n",
    "\n",
    "print(zip_to_list[0])"
   ]
  },
  {
   "cell_type": "markdown",
   "id": "206c323a",
   "metadata": {},
   "source": [
    "But you can also iterate through the `zipped` objects without turning them into lists.\n",
    "\n",
    "See the below examples:"
   ]
  },
  {
   "cell_type": "markdown",
   "id": "33e3ce45",
   "metadata": {},
   "source": [
    "In the below example, each element in the zipped object is a tuple containing the elements from each of the three lists\n",
    "\n",
    "i.e. the first element in the `zipped` object is ('a', 'x', 1)\n",
    "\n",
    "We can iterate through each tuple in the `zipped` object "
   ]
  },
  {
   "cell_type": "code",
   "execution_count": 17,
   "id": "1fc860f2",
   "metadata": {},
   "outputs": [
    {
     "name": "stdout",
     "output_type": "stream",
     "text": [
      "('a', 'x', 1)\n",
      "('b', 'y', 2)\n",
      "('c', 'z', 3)\n"
     ]
    }
   ],
   "source": [
    "list1 = ['a', 'b', 'c']\n",
    "list2 = ['x', 'y', 'z']\n",
    "list3 = [1,    2,   3 ]\n",
    "zipped = zip(list1, list2, list3)\n",
    "\n",
    "for item in zipped:\n",
    "    print(item) # This just prints each tuple element"
   ]
  },
  {
   "cell_type": "code",
   "execution_count": 18,
   "id": "359cfd36",
   "metadata": {},
   "outputs": [
    {
     "data": {
      "text/plain": [
       "[('a', 'x', 1), ('b', 'y', 2), ('c', 'z', 3)]"
      ]
     },
     "execution_count": 18,
     "metadata": {},
     "output_type": "execute_result"
    }
   ],
   "source": [
    "list1 = ['a', 'b', 'c']\n",
    "list2 = ['x', 'y', 'z']\n",
    "list3 = [1,    2,   3 ]\n",
    "zipped = zip(list1, list2, list3)\n",
    "\n",
    "[item for item in zipped] # This adds each tuple element into a list using list comprehensions"
   ]
  },
  {
   "cell_type": "markdown",
   "id": "05c2bfcd",
   "metadata": {},
   "source": [
    "Notice that each item or element in the above exmamples is a `tuple`. It is like a list, but starts and ends with parenthesis instead of square brackets\n",
    "\n",
    "A `tuple` is similar to a list, but it is immutable, meaning you can't change (or reassign) its values once it's defined.\n",
    "\n",
    "Note the below example"
   ]
  },
  {
   "cell_type": "code",
   "execution_count": 19,
   "id": "c738b65c",
   "metadata": {},
   "outputs": [
    {
     "name": "stdout",
     "output_type": "stream",
     "text": [
      "[2, 2, 3]\n"
     ]
    }
   ],
   "source": [
    "lis = [1,2,3]\n",
    "\n",
    "lis[0] = 2\n",
    "\n",
    "print(lis)"
   ]
  },
  {
   "cell_type": "code",
   "execution_count": 20,
   "id": "392c613f",
   "metadata": {},
   "outputs": [
    {
     "ename": "TypeError",
     "evalue": "'tuple' object does not support item assignment",
     "output_type": "error",
     "traceback": [
      "\u001b[1;31m---------------------------------------------------------------------------\u001b[0m",
      "\u001b[1;31mTypeError\u001b[0m                                 Traceback (most recent call last)",
      "Cell \u001b[1;32mIn[20], line 3\u001b[0m\n\u001b[0;32m      1\u001b[0m tup \u001b[38;5;241m=\u001b[39m (\u001b[38;5;241m1\u001b[39m,\u001b[38;5;241m2\u001b[39m,\u001b[38;5;241m3\u001b[39m)\n\u001b[1;32m----> 3\u001b[0m tup[\u001b[38;5;241m0\u001b[39m] \u001b[38;5;241m=\u001b[39m \u001b[38;5;241m2\u001b[39m \u001b[38;5;66;03m#!!! <---- ERROR! We can look at the tup[0] value, but we can't reassign it to a new value\u001b[39;00m\n\u001b[0;32m      5\u001b[0m \u001b[38;5;28mprint\u001b[39m(tup)\n",
      "\u001b[1;31mTypeError\u001b[0m: 'tuple' object does not support item assignment"
     ]
    }
   ],
   "source": [
    "tup = (1,2,3)\n",
    "\n",
    "tup[0] = 2 #!!! <---- ERROR! We can look at the tup[0] value, but we can't reassign it to a new value\n",
    "\n",
    "print(tup) \n"
   ]
  },
  {
   "cell_type": "markdown",
   "id": "e36ec2d9",
   "metadata": {},
   "source": [
    "If we wanted to separate the elements within each tuple obtained from the zipped object, we can achieve this by explicitly specifying placeholders for each zipped item in the tuple during iteration."
   ]
  },
  {
   "cell_type": "code",
   "execution_count": 21,
   "id": "c27a0059",
   "metadata": {},
   "outputs": [
    {
     "name": "stdout",
     "output_type": "stream",
     "text": [
      "a x 1\n",
      "b y 2\n",
      "c z 3\n"
     ]
    }
   ],
   "source": [
    "list1 = ['a', 'b', 'c']\n",
    "list2 = ['x', 'y', 'z']\n",
    "list3 = [1,    2,   3 ]\n",
    "zipped = zip(list1, list2, list3)\n",
    "\n",
    "for item_1, item_2, item_3 in zipped:\n",
    "    print(item_1, item_2, item_3)\n",
    "    \n",
    "    # prints\n",
    "    # item_1   item_2   item_3\n",
    "    # For each zipped tuple\n"
   ]
  },
  {
   "cell_type": "markdown",
   "id": "04544415",
   "metadata": {},
   "source": [
    "In the above\n",
    "\n",
    "- `zip(list1, list2, list3)` pairs up corresponding elements from `list1`, `list2`, and `list3`.\n",
    "\n",
    "- During iteration, each tuple obtained from the zip object is unpacked into individual variables (`item_1`, `item_2`, `item_3`).\n",
    "\n",
    "- The print statement displays each element separately."
   ]
  },
  {
   "cell_type": "markdown",
   "id": "c51de054",
   "metadata": {},
   "source": [
    "We can also use list comprehensions to iterate through `zipped` objects\n",
    "\n",
    "And even perform operations using each item"
   ]
  },
  {
   "cell_type": "code",
   "execution_count": 22,
   "id": "9e6732fd",
   "metadata": {},
   "outputs": [
    {
     "data": {
      "text/plain": [
       "['ax', 'by', 'cz']"
      ]
     },
     "execution_count": 22,
     "metadata": {},
     "output_type": "execute_result"
    }
   ],
   "source": [
    "list1 = ['a', 'b', 'c']\n",
    "list2 = ['x', 'y', 'z']\n",
    "zipped = zip(list1, list2)\n",
    "\n",
    "[item_1 + item_2 for item_1, item_2 in zipped]\n"
   ]
  },
  {
   "cell_type": "markdown",
   "id": "f4f86e12",
   "metadata": {},
   "source": [
    "To perform operations, we don't even need to break the zipped item up using placeholders during the for loop \n",
    "\n",
    "As long as the operation works over an `iterable` (such as a `list`, `tuple`, etc.) then we can use it to operate on a `zipped` object"
   ]
  },
  {
   "cell_type": "markdown",
   "id": "fe3350c4",
   "metadata": {},
   "source": [
    "**Operators on Tuples**"
   ]
  },
  {
   "cell_type": "markdown",
   "id": "6e711be3",
   "metadata": {},
   "source": [
    "For example, let's look at the `sum` function in Python\n",
    "\n",
    "We can go to the docs for in-built Python functions: https://docs.python.org/3/library/functions.html"
   ]
  },
  {
   "cell_type": "markdown",
   "id": "8d905a7f",
   "metadata": {},
   "source": [
    "We can see that the `sum` function takes in an `iterable` and sums up the items"
   ]
  },
  {
   "attachments": {
    "image.png": {
     "image/png": "[encoded data removed]"
    }
   },
   "cell_type": "markdown",
   "id": "4a23f32b",
   "metadata": {},
   "source": [
    "![image.png](attachment:image.png)"
   ]
  },
  {
   "cell_type": "code",
   "execution_count": 23,
   "id": "682340ca",
   "metadata": {},
   "outputs": [
    {
     "data": {
      "text/plain": [
       "3"
      ]
     },
     "execution_count": 23,
     "metadata": {},
     "output_type": "execute_result"
    }
   ],
   "source": [
    "lis = [1, 2]\n",
    "sum(lis)"
   ]
  },
  {
   "cell_type": "code",
   "execution_count": 25,
   "id": "ce3d986b",
   "metadata": {},
   "outputs": [
    {
     "data": {
      "text/plain": [
       "3"
      ]
     },
     "execution_count": 25,
     "metadata": {},
     "output_type": "execute_result"
    }
   ],
   "source": [
    "tup = (1,2)\n",
    "sum(tup)"
   ]
  },
  {
   "cell_type": "markdown",
   "id": "a02be1a4",
   "metadata": {},
   "source": [
    "There are more operators that will work with iterables. `max` is another example"
   ]
  },
  {
   "attachments": {
    "image.png": {
     "image/png": "[encoded data removed]"
    }
   },
   "cell_type": "markdown",
   "id": "dcd85256",
   "metadata": {},
   "source": [
    "![image.png](attachment:image.png)"
   ]
  },
  {
   "cell_type": "code",
   "execution_count": 27,
   "id": "44e3a679",
   "metadata": {},
   "outputs": [
    {
     "data": {
      "text/plain": [
       "4"
      ]
     },
     "execution_count": 27,
     "metadata": {},
     "output_type": "execute_result"
    }
   ],
   "source": [
    "lis = [1,2,3,4]\n",
    "max( lis )"
   ]
  },
  {
   "cell_type": "code",
   "execution_count": 28,
   "id": "07cec271",
   "metadata": {},
   "outputs": [
    {
     "data": {
      "text/plain": [
       "4"
      ]
     },
     "execution_count": 28,
     "metadata": {},
     "output_type": "execute_result"
    }
   ],
   "source": [
    "tup = (1,2,3,4)\n",
    "max( tup )"
   ]
  },
  {
   "cell_type": "markdown",
   "id": "fa064103",
   "metadata": {},
   "source": [
    "... and since `zip` returns an iterator of tuples, one can use functions on each tuple of the returned iterator in a list comprehension"
   ]
  },
  {
   "cell_type": "markdown",
   "id": "8995e129",
   "metadata": {},
   "source": [
    "Take the below example of using `max`"
   ]
  },
  {
   "cell_type": "markdown",
   "id": "9341dab6",
   "metadata": {},
   "source": [
    "First, just recall what the `zip` function is doing."
   ]
  },
  {
   "cell_type": "markdown",
   "id": "52b2b33a",
   "metadata": {},
   "source": [
    "It returns a `zip` object"
   ]
  },
  {
   "cell_type": "code",
   "execution_count": 29,
   "id": "543e8eee",
   "metadata": {},
   "outputs": [
    {
     "name": "stdout",
     "output_type": "stream",
     "text": [
      "<zip object at 0x000001C2730DC600>\n"
     ]
    }
   ],
   "source": [
    "zipped = zip([1,2,3], [3,4,1])\n",
    "print(zipped)\n"
   ]
  },
  {
   "cell_type": "markdown",
   "id": "8d1f2680",
   "metadata": {},
   "source": [
    "This `zip` function is iterable, you can iterate over each element.\n",
    "\n",
    "Each zip-element is a tuple of the input list-elements"
   ]
  },
  {
   "cell_type": "code",
   "execution_count": 30,
   "id": "a99baf4f",
   "metadata": {},
   "outputs": [
    {
     "name": "stdout",
     "output_type": "stream",
     "text": [
      "(1, 3)\n",
      "(2, 4)\n",
      "(3, 1)\n"
     ]
    }
   ],
   "source": [
    "zipped = zip([1,2,3], [3,4,1])\n",
    "for item in zipped:\n",
    "    print(item)"
   ]
  },
  {
   "cell_type": "markdown",
   "id": "c36c8a9a",
   "metadata": {},
   "source": [
    "Since the `zip` object is iterable, we can also use list comprehensions instead of the old-fashioned for loop that we saw above"
   ]
  },
  {
   "cell_type": "code",
   "execution_count": 31,
   "id": "e48f0691",
   "metadata": {},
   "outputs": [
    {
     "data": {
      "text/plain": [
       "[(1, 3), (2, 4), (3, 1)]"
      ]
     },
     "execution_count": 31,
     "metadata": {},
     "output_type": "execute_result"
    }
   ],
   "source": [
    "zipped = zip([1,2,3], [3,4,1])\n",
    "[item for item in zipped]"
   ]
  },
  {
   "cell_type": "markdown",
   "id": "09d3b2e5",
   "metadata": {},
   "source": [
    "And since each zip-element is a `tuple`, and `tuples` are also iterables, we can use any function which can be applied to an iterable like `sum` or `max`."
   ]
  },
  {
   "cell_type": "code",
   "execution_count": 32,
   "id": "07c64882",
   "metadata": {},
   "outputs": [
    {
     "data": {
      "text/plain": [
       "[3, 4, 3]"
      ]
     },
     "execution_count": 32,
     "metadata": {},
     "output_type": "execute_result"
    }
   ],
   "source": [
    "zipped = zip([1,2,3], [3,4,1])\n",
    "[max(item) for item in zipped]"
   ]
  },
  {
   "cell_type": "markdown",
   "id": "7ab96112",
   "metadata": {},
   "source": [
    "The above list of max values could be created with old-fashioned `for` loops"
   ]
  },
  {
   "cell_type": "code",
   "execution_count": 33,
   "id": "cba2fc9c",
   "metadata": {},
   "outputs": [
    {
     "data": {
      "text/plain": [
       "[3, 4, 3]"
      ]
     },
     "execution_count": 33,
     "metadata": {},
     "output_type": "execute_result"
    }
   ],
   "source": [
    "zipped = zip([1,2,3], [3,4,1])\n",
    "max_list = []\n",
    "\n",
    "for item in zipped:\n",
    "    y = max(item)\n",
    "    max_list.append(y)\n",
    "\n",
    "max_list"
   ]
  },
  {
   "cell_type": "markdown",
   "id": "e722ddf5",
   "metadata": {},
   "source": [
    "**Map**\n",
    "\n",
    "The `map()` function applies a given function to all the items in an input iterable and returns a new list containing the results of applying the function to each item.\n",
    "\n",
    "The inputs are:\n",
    "\n",
    "`map(function, iterable1, iterable2, ... )`\n",
    "\n",
    "- The first input is the name of the function you wish to apply to your iterable(s)\n",
    "- The second function is the first iterable\n",
    "- The third function is the second iterable (optional)\n",
    "- The fourth function is the third iterable (optional)\n",
    "- ... You can have as many iterables as you wish. But you must at least have one.\n",
    "- The `function` be able to take in the number of iterables you've listed\n",
    "\n",
    "https://www.geeksforgeeks.org/python-map-function/"
   ]
  },
  {
   "cell_type": "markdown",
   "id": "271a345c",
   "metadata": {},
   "source": [
    "For example, suppose we have a function, `double` which just returns the double of the input"
   ]
  },
  {
   "cell_type": "code",
   "execution_count": 34,
   "id": "0c6dd82b",
   "metadata": {},
   "outputs": [],
   "source": [
    "def double(x):\n",
    "    \n",
    "    return 2*x"
   ]
  },
  {
   "cell_type": "markdown",
   "id": "26f013cb",
   "metadata": {},
   "source": [
    "We can \"map\" an input iterable (a `list`, `tuple`, etc.) to an output iterable using the `map` function and some given function.\n",
    "\n",
    "In other words, we can take an input iterable, and apply some funciton, such as `double`, to each element in the input `iterable` using `map`.\n",
    "\n",
    "This will return another iterable\n",
    "\n",
    "Note, we can't direclty print this iterable.\n",
    "\n",
    "We can turn it into a `list` explicitly by using the `list` function."
   ]
  },
  {
   "cell_type": "code",
   "execution_count": 35,
   "id": "a37b2fbb",
   "metadata": {},
   "outputs": [
    {
     "data": {
      "text/plain": [
       "<map at 0x1c2725c08b0>"
      ]
     },
     "execution_count": 35,
     "metadata": {},
     "output_type": "execute_result"
    }
   ],
   "source": [
    "input_tuple = (1,2,3)\n",
    "\n",
    "map(double, input_tuple)"
   ]
  },
  {
   "cell_type": "code",
   "execution_count": 36,
   "id": "d24beac7",
   "metadata": {},
   "outputs": [
    {
     "data": {
      "text/plain": [
       "[2, 4, 6]"
      ]
     },
     "execution_count": 36,
     "metadata": {},
     "output_type": "execute_result"
    }
   ],
   "source": [
    "input_tuple = (1,2,3)\n",
    "\n",
    "list(map(double, input_tuple))"
   ]
  },
  {
   "cell_type": "code",
   "execution_count": 37,
   "id": "53bb6b0c",
   "metadata": {},
   "outputs": [
    {
     "data": {
      "text/plain": [
       "[2, 4, 6]"
      ]
     },
     "execution_count": 37,
     "metadata": {},
     "output_type": "execute_result"
    }
   ],
   "source": [
    "input_list = [1,2,3]\n",
    "\n",
    "list(map(double, input_list))"
   ]
  },
  {
   "cell_type": "markdown",
   "id": "057eb332",
   "metadata": {},
   "source": [
    "The `map` function can work for multiple iterables, as long the function you use can also works for the same number of iterables you've supplied\n",
    "\n",
    "See the below examples with the custom made `add` function"
   ]
  },
  {
   "cell_type": "code",
   "execution_count": 39,
   "id": "9d6991c8",
   "metadata": {},
   "outputs": [
    {
     "data": {
      "text/plain": [
       "<map at 0x1c2725c1180>"
      ]
     },
     "execution_count": 39,
     "metadata": {},
     "output_type": "execute_result"
    }
   ],
   "source": [
    "def add(x1, x2):\n",
    "    \n",
    "    return x1 + x2\n",
    "\n",
    "input1 = [1,2,3]\n",
    "input2 = [2,3,4]\n",
    "\n",
    "# Add requires two inputs\n",
    "# Two input lists are given\n",
    "# Map takes each element of the two lists, and applies the add function to them\n",
    "# So it first takes 1 and 2, and adds them\n",
    "# Then 2 and 3, and adds them\n",
    "# And then 3 and 4, and adds them\n",
    "map(add, input1, input2)"
   ]
  },
  {
   "cell_type": "code",
   "execution_count": 40,
   "id": "15b8135b",
   "metadata": {},
   "outputs": [
    {
     "data": {
      "text/plain": [
       "[3, 5, 7]"
      ]
     },
     "execution_count": 40,
     "metadata": {},
     "output_type": "execute_result"
    }
   ],
   "source": [
    "def add(x1, x2):\n",
    "    \n",
    "    return x1 + x2\n",
    "\n",
    "input1 = [1,2,3]\n",
    "input2 = [2,3,4]\n",
    "\n",
    "list(map(add, input1, input2))"
   ]
  },
  {
   "cell_type": "code",
   "execution_count": 41,
   "id": "cdafeb19",
   "metadata": {},
   "outputs": [
    {
     "ename": "TypeError",
     "evalue": "add() takes 2 positional arguments but 3 were given",
     "output_type": "error",
     "traceback": [
      "\u001b[1;31m---------------------------------------------------------------------------\u001b[0m",
      "\u001b[1;31mTypeError\u001b[0m                                 Traceback (most recent call last)",
      "Cell \u001b[1;32mIn[41], line 11\u001b[0m\n\u001b[0;32m      8\u001b[0m input2 \u001b[38;5;241m=\u001b[39m [\u001b[38;5;241m2\u001b[39m,\u001b[38;5;241m3\u001b[39m,\u001b[38;5;241m4\u001b[39m]\n\u001b[0;32m      9\u001b[0m input3 \u001b[38;5;241m=\u001b[39m [\u001b[38;5;241m3\u001b[39m,\u001b[38;5;241m4\u001b[39m,\u001b[38;5;241m5\u001b[39m]\n\u001b[1;32m---> 11\u001b[0m \u001b[38;5;28mlist\u001b[39m(\u001b[38;5;28mmap\u001b[39m(add, input1, input2, input3))\n",
      "\u001b[1;31mTypeError\u001b[0m: add() takes 2 positional arguments but 3 were given"
     ]
    }
   ],
   "source": [
    "# This won't work, note the error. \n",
    "\n",
    "def add(x1, x2):\n",
    "    \n",
    "    return x1 + x2\n",
    "\n",
    "input1 = [1,2,3]\n",
    "input2 = [2,3,4]\n",
    "input3 = [3,4,5]\n",
    "\n",
    "list(map(add, input1, input2, input3))"
   ]
  },
  {
   "cell_type": "code",
   "execution_count": 42,
   "id": "82266e9b",
   "metadata": {},
   "outputs": [
    {
     "data": {
      "text/plain": [
       "[3, 5, 7]"
      ]
     },
     "execution_count": 42,
     "metadata": {},
     "output_type": "execute_result"
    }
   ],
   "source": [
    "# We can also use the `add` function from the `operator` library\n",
    "\n",
    "from operator import add\n",
    "\n",
    "input2 = [2,3,4]\n",
    "input3 = [3,4,5]\n",
    "\n",
    "list(map(add, input1, input2))"
   ]
  }
 ],
 "metadata": {
  "kernelspec": {
   "display_name": "Python 3 (ipykernel)",
   "language": "python",
   "name": "python3"
  },
  "language_info": {
   "codemirror_mode": {
    "name": "ipython",
    "version": 3
   },
   "file_extension": ".py",
   "mimetype": "text/x-python",
   "name": "python",
   "nbconvert_exporter": "python",
   "pygments_lexer": "ipython3",
   "version": "3.11.4"
  }
 },
 "nbformat": 4,
 "nbformat_minor": 5
}
